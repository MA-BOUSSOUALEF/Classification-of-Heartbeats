{
 "cells": [
  {
   "cell_type": "markdown",
   "id": "43e596ea",
   "metadata": {
    "id": "43e596ea"
   },
   "source": [
    "# Projet CSAA - Classification du rythme cardiaque issu d'ECG\n",
    "\n",
    "\n",
    "Ce jeu de données est composé d'une collections de signaux de battements cardiaques provenant d'un jeu de données célèbres dans le domaine de la classification des battements cardiaques, le jeu de données sur l'arythmie du MIT-BIH.\n",
    "\n",
    "Les signaux correspondent à des formes d'électrocardiogramme (ECG) de battements cardiaques pour le cas normal et les cas affectés par différentes arythmies et infarctus du myocarde. Ces signaux sont prétraités et segmentés, chaque segment correspondant à un battement cardiaque.\n",
    "\n",
    "<img src=\"./DataECG.png\" width=\"800\" height=\"600\">\n",
    "\n",
    "On distingue 5 battements cardiaques différents : Battements normaux', 'Battements inconnus', 'Battements ectopiques ventriculaires', 'Battements ectopiques supraventriculaires' et 'Battements de fusion'.\n",
    "\n",
    "De ces signaux, on extrait des caractéristiques par la librairie TSFEL - *Time Series Features Extraction Library* (https://tsfel.readthedocs.io/en/latest/index.html)\n",
    "\n",
    "Les 156 caractéristiques extraites sont divisées selon les domaines :\n",
    "- temporel avec 31 caractéristiques comme l'entropie, Max, Min, Absolute Energy ...\n",
    "- statistique avec 14 caractéristiques comme écart moyen absolu, écart médian, variance, Kurtosis...\n",
    "- spectral  avec 111 caractéristiques comme les coefficients FFT par bande de fréquence, ondelettes...\n",
    "\n",
    "Lien vers le papier expliquant TSFEL : https://www.sciencedirect.com/science/article/pii/S2352711020300017"
   ]
  },
  {
   "cell_type": "code",
   "execution_count": 2,
   "id": "17ec2c7e",
   "metadata": {
    "id": "17ec2c7e"
   },
   "outputs": [
    {
     "name": "stderr",
     "output_type": "stream",
     "text": [
      "C:\\Users\\pc\\AppData\\Local\\Temp\\ipykernel_16028\\3444345040.py:4: DeprecationWarning: \n",
      "Pyarrow will become a required dependency of pandas in the next major release of pandas (pandas 3.0),\n",
      "(to allow more performant data types, such as the Arrow string type, and better interoperability with other libraries)\n",
      "but was not found to be installed on your system.\n",
      "If this would cause problems for you,\n",
      "please provide us feedback at https://github.com/pandas-dev/pandas/issues/54466\n",
      "        \n",
      "  import pandas as pd\n"
     ]
    }
   ],
   "source": [
    "# Librairies utiles\n",
    "import numpy as np\n",
    "import sklearn\n",
    "import pandas as pd\n",
    "import seaborn as sns\n",
    "import matplotlib.pyplot as plt"
   ]
  },
  {
   "cell_type": "markdown",
   "id": "9fe2730e",
   "metadata": {
    "id": "9fe2730e"
   },
   "source": [
    "# Chargement des données d'apprentissage et de test"
   ]
  },
  {
   "cell_type": "code",
   "execution_count": null,
   "id": "6e64b5e9",
   "metadata": {
    "colab": {
     "base_uri": "https://localhost:8080/"
    },
    "id": "6e64b5e9",
    "outputId": "54d039f7-ec66-433f-bf92-478d5c2a8694"
   },
   "outputs": [
    {
     "name": "stdout",
     "output_type": "stream",
     "text": [
      "Taille de la base d apprentissage : (5000, 156) (5000,)\n",
      "Taille de la base d apprentissage : (750, 156) (750,)\n",
      "Les classes sont : [0. 1. 2. 3. 4.]\n",
      "Les classes sont : [0. 1. 2. 3. 4.]\n"
     ]
    }
   ],
   "source": [
    "# Chargement des données d'apprentissage\n",
    "DataFeatureApp=np.load('./DataApp.npy') #features\n",
    "LabelApp=np.load('./LabelApp.npy')    #target\n",
    "print('Taille de la base d apprentissage :', DataFeatureApp.shape, LabelApp.shape)\n",
    "\n",
    "# Chargement des données de test\n",
    "DataFeatureTest=np.load('./DataTest.npy')\n",
    "LabelTest=np.load('./LabelTest.npy')\n",
    "print('Taille de la base d apprentissage :', DataFeatureTest.shape, LabelTest.shape)\n",
    "\n",
    "print('Les classes sont :', np.unique(LabelApp))\n",
    "print('Les classes sont :', np.unique(LabelTest))\n",
    "\n"
   ]
  },
  {
   "cell_type": "markdown",
   "id": "48df15b1",
   "metadata": {
    "id": "48df15b1"
   },
   "source": [
    "# Chargement des variables issues *TSFEL*"
   ]
  },
  {
   "cell_type": "code",
   "execution_count": 27,
   "id": "97c9da7d",
   "metadata": {
    "colab": {
     "base_uri": "https://localhost:8080/"
    },
    "id": "97c9da7d",
    "outputId": "6cb6fc81-2fec-4615-d480-387b9814698e"
   },
   "outputs": [
    {
     "name": "stdout",
     "output_type": "stream",
     "text": [
      "Nombre de variables statistiques : (31,)\n",
      "Nombre de variables temporelles : (14,)\n",
      "Nombre de variables spectrales : (111,)\n"
     ]
    }
   ],
   "source": [
    "ListeVariablesStat=np.load('./ListeVariableStat.npy',allow_pickle=True)\n",
    "print('Nombre de variables statistiques :',ListeVariablesStat.shape)\n",
    "#print('Liste Variables Statistiques :', ListeVariablesStat)\n",
    "\n",
    "ListeVariablesTemps=np.load('./ListeVariableTemps.npy',allow_pickle=True)\n",
    "print('Nombre de variables temporelles :',ListeVariablesTemps.shape)\n",
    "#print('Liste Variables Temporelles :',ListeVariablesTemps)\n",
    "\n",
    "ListeVariablesSpectral=np.load('./ListeVariableSpectral.npy',allow_pickle=True)\n",
    "print('Nombre de variables spectrales :',ListeVariablesSpectral.shape)\n",
    "#print('Liste Variables Spectrales :',ListeVariablesSpectral)\n",
    "\n"
   ]
  },
  {
   "cell_type": "markdown",
   "id": "20026ed1",
   "metadata": {
    "id": "20026ed1"
   },
   "source": [
    "### Fonctions pour réaliser une table de correspondance entre le label des approches non supervisées et le label réel"
   ]
  },
  {
   "cell_type": "code",
   "execution_count": 54,
   "id": "17e21e75",
   "metadata": {
    "id": "17e21e75"
   },
   "outputs": [
    {
     "name": "stdout",
     "output_type": "stream",
     "text": [
      "[1. 3. 4.]\n",
      "[0. 1. 2. 3. 4.]\n"
     ]
    },
    {
     "name": "stderr",
     "output_type": "stream",
     "text": [
      "C:\\Users\\pc\\AppData\\Local\\Temp\\ipykernel_16028\\3820362420.py:29: DeprecationWarning: Conversion of an array with ndim > 0 to a scalar is deprecated, and will error in future. Ensure you extract a single element from your array before performing this operation. (Deprecated NumPy 1.25.)\n",
      "  number_labels[i] = reference_labels[y_pred_kmeans[i]]\n"
     ]
    }
   ],
   "source": [
    "from sklearn.preprocessing import StandardScaler\n",
    "from sklearn.model_selection import train_test_split\n",
    "from sklearn.metrics import accuracy_score\n",
    "from sklearn.metrics import confusion_matrix\n",
    "from sklearn.cluster import KMeans\n",
    "\n",
    "#normaliser les données \n",
    "scaler = StandardScaler()\n",
    "X_train=scaler.fit_transform(DataFeatureApp)\n",
    "y_train=LabelApp\n",
    "\n",
    "def retrieve_info(cluster_labels,y_train):\n",
    " #Associe l'étiquette la plus probable à chaque groupe dans le modèle KMeans.\n",
    " #Résultats : dictionnaire des clusters associés à chaque étiquette.\n",
    "# Initialisation\n",
    "  reference_labels = np.zeros((len(np.unique(cluster_labels)),1),dtype=float)\n",
    "# Loop pour chaque label\n",
    "  for i in range(len(np.unique(cluster_labels))):\n",
    "    index = np.where(cluster_labels == i,1,0)\n",
    "    num = np.bincount(y_train[index == 1].astype(int)).argmax()\n",
    "    reference_labels[i] = num\n",
    "  return reference_labels\n",
    "\n",
    "def correspondance(y_pred_kmeans,y_train):\n",
    "  # Correspondance entre la partition et les classes de la vérité terrain\n",
    "  reference_labels = retrieve_info(y_pred_kmeans,y_train)\n",
    "  number_labels = np.zeros(len(y_pred_kmeans))\n",
    "  for i in range(len(y_pred_kmeans)):\n",
    "    number_labels[i] = reference_labels[y_pred_kmeans[i]]\n",
    "  return number_labels\n",
    "\n",
    "k_means = KMeans(n_clusters=3, random_state=0)\n",
    "y_pred_kmeans = k_means.fit_predict(X_train)\n",
    "y_pred = correspondance(y_pred_kmeans,y_train) # les classes prédites pour la methodes non superviser \n",
    "print(np.unique(y_pred))\n",
    "print(np.unique(y_train))\n"
   ]
  },
  {
   "cell_type": "markdown",
   "id": "c32be7d8",
   "metadata": {
    "id": "c32be7d8"
   },
   "source": [
    "# Partie I : Classification des battements cardiaques sans prétraitement\n",
    "\n",
    "Réaliser une classification des battements cardiaques par une méthode d'apprentissage supervisé et une méthode d'apprentissage non supervisé de votre choix en utilisant soit les codes des TP précédents, soit en utilisant la librairie *scikit-learn*.\n",
    "\n",
    "Pour chaque résultat obtenu, calculer la matrice de confusion et interpréter les résultats.\n"
   ]
  },
  {
   "cell_type": "markdown",
   "id": "0221ee5b",
   "metadata": {
    "id": "0221ee5b"
   },
   "source": [
    "## Méthodes supervisées  :\n",
    "indiquer quelles sont les 2 méthodes supervisées de votre choix et calculer la matrice de confusion associée."
   ]
  },
  {
   "cell_type": "code",
   "execution_count": null,
   "id": "46cb8b1d",
   "metadata": {
    "id": "46cb8b1d"
   },
   "outputs": [
    {
     "name": "stderr",
     "output_type": "stream",
     "text": [
      "c:\\Users\\pc\\AppData\\Local\\Programs\\Python\\Python311\\Lib\\site-packages\\sklearn\\linear_model\\_logistic.py:469: ConvergenceWarning: lbfgs failed to converge (status=1):\n",
      "STOP: TOTAL NO. of ITERATIONS REACHED LIMIT.\n",
      "\n",
      "Increase the number of iterations (max_iter) or scale the data as shown in:\n",
      "    https://scikit-learn.org/stable/modules/preprocessing.html\n",
      "Please also refer to the documentation for alternative solver options:\n",
      "    https://scikit-learn.org/stable/modules/linear_model.html#logistic-regression\n",
      "  n_iter_i = _check_optimize_result(\n"
     ]
    },
    {
     "name": "stdout",
     "output_type": "stream",
     "text": [
      "Le taux de précision pour la regression logistique est : 86.6 %\n"
     ]
    },
    {
     "data": {
      "image/png": "[encoded data removed]",
      "text/plain": [
       "<Figure size 640x480 with 2 Axes>"
      ]
     },
     "metadata": {},
     "output_type": "display_data"
    },
    {
     "name": "stdout",
     "output_type": "stream",
     "text": [
      "Le taux de précision pour l arbre de decision est : 87.6 %\n"
     ]
    },
    {
     "data": {
      "image/png": "[encoded data removed]",
      "text/plain": [
       "<Figure size 640x480 with 2 Axes>"
      ]
     },
     "metadata": {},
     "output_type": "display_data"
    }
   ],
   "source": [
    "# dans cette partie j'ai l'aider d'utuliser la regression logistique et arbre de decision pour comparer les resultats obtenus avec les methode non superviser\n",
    "from sklearn.metrics import confusion_matrix\n",
    "from sklearn.linear_model import LogisticRegression\n",
    "from sklearn.tree import DecisionTreeClassifier\n",
    "from sklearn.metrics import accuracy_score\n",
    "\n",
    "#diviser les données en données d'apprentissage et de test\n",
    "X_train,X_test,y_train,y_test=train_test_split(DataFeatureApp,LabelApp,test_size=0.2,random_state=0)\n",
    "#normaliser les données\n",
    "scale=StandardScaler()\n",
    "X_train=scale.fit_transform(X_train)\n",
    "X_test=scale.transform(X_test)\n",
    "# Regression logistique\n",
    "log_reg=LogisticRegression()\n",
    "log_reg.fit(X_train,y_train)\n",
    "y_pred=log_reg.predict(X_test)\n",
    "#calculer la matrice de confusion\n",
    "confusion_matrix(y_test,y_pred)\n",
    "#calculer le taux de precision\n",
    "acuray_score=accuracy_score(y_test,y_pred)\n",
    "print('Le taux de précision pour la regression logistique est :',acuray_score*100,\"%\")\n",
    "plt.figure()\n",
    "sns.heatmap(confusion_matrix(y_test,y_pred),annot=True)\n",
    "plt.title('Matrice de confusion pour la regression logistique') \n",
    "plt.xlabel('Valeurs prédites')\n",
    "plt.ylabel('Valeurs réelles')\n",
    "plt.show()\n",
    "\n",
    "\n",
    "# Arbre de decision\n",
    "tree=DecisionTreeClassifier()\n",
    "tree.fit(X_train,y_train)\n",
    "y_pred=tree.predict(X_test)\n",
    "#calculer la matrice de confusion\n",
    "confusion_matrix(y_test,y_pred)\n",
    "#calculer le taux de precision\n",
    "acuray_score=accuracy_score(y_test,y_pred)\n",
    "print('Le taux de précision pour l arbre de decision est :',acuray_score*100,\"%\")\n",
    "plt.figure()\n",
    "sns.heatmap(confusion_matrix(y_test,y_pred),annot=True)\n",
    "plt.title('Matrice de confusion pour l arbre de decision')\n",
    "plt.xlabel('Valeurs prédites')\n",
    "plt.ylabel('Valeurs réelles')\n",
    "plt.show()\n",
    "#confusion_matrix(y_true, y_pred)"
   ]
  },
  {
   "cell_type": "markdown",
   "id": "b2164fad",
   "metadata": {
    "id": "b2164fad"
   },
   "source": [
    "## Méthodes non supervisées\n",
    "\n",
    "Indiquer quelles sont les 2 méthodes non supervisées de votre choix et calculer la matrice de confusion associée."
   ]
  },
  {
   "cell_type": "code",
   "execution_count": null,
   "id": "fd913740",
   "metadata": {
    "id": "fd913740"
   },
   "outputs": [],
   "source": []
  },
  {
   "cell_type": "code",
   "execution_count": null,
   "id": "335f1e5a",
   "metadata": {
    "id": "335f1e5a"
   },
   "outputs": [],
   "source": []
  },
  {
   "cell_type": "markdown",
   "id": "ce258562",
   "metadata": {
    "id": "ce258562"
   },
   "source": [
    "# Partie II : classification des battements cardiaques avec prétraitement par ACP\n",
    "\n",
    "## Méthode supervisée avec réduction de dimension par ACP sur l'ensemble d'apprentissage\n",
    "Réaliser une ACP sur l'ensemble d'apprentissage pour réduire la dimension, visualiser les données\n",
    "puis projeter les données de l'ensemble de test dans la base de l'ACP.\n",
    "\n",
    "Indiquer quelles sont les 2 méthodes supervisées de votre choix et calculer la matrice de confusion associée (confusion_matrix) et le score de performance (accuracy_score)"
   ]
  },
  {
   "cell_type": "code",
   "execution_count": null,
   "id": "e4a67a8d",
   "metadata": {
    "id": "e4a67a8d"
   },
   "outputs": [],
   "source": [
    "from sklearn.decomposition import PCA"
   ]
  },
  {
   "cell_type": "code",
   "execution_count": null,
   "id": "dd0f9780",
   "metadata": {
    "id": "dd0f9780"
   },
   "outputs": [],
   "source": []
  },
  {
   "cell_type": "code",
   "execution_count": null,
   "id": "9782179d",
   "metadata": {
    "id": "9782179d"
   },
   "outputs": [],
   "source": [
    "# Calcul de la matrice de confusion\n"
   ]
  },
  {
   "cell_type": "markdown",
   "id": "f6281618",
   "metadata": {
    "id": "f6281618"
   },
   "source": [
    "## Méthode non supervisée avec réduction de dimension par ACP sur l'ensemble des données\n",
    "\n",
    "Réaliser une ACP sur l'ensemble des données et indiquer quelles sont les méthodes non supervisées de votre choix et calculer la matrice de confusion associée (confusion_matrix) et le score de performance (accuracy_score)"
   ]
  },
  {
   "cell_type": "code",
   "execution_count": null,
   "id": "41f9e75d",
   "metadata": {
    "id": "41f9e75d"
   },
   "outputs": [],
   "source": []
  },
  {
   "cell_type": "code",
   "execution_count": null,
   "id": "cef4ea07",
   "metadata": {
    "id": "cef4ea07"
   },
   "outputs": [],
   "source": [
    "# Calcul de la matrice de confusion\n"
   ]
  },
  {
   "cell_type": "code",
   "execution_count": null,
   "id": "c608da4c",
   "metadata": {
    "id": "c608da4c"
   },
   "outputs": [],
   "source": []
  },
  {
   "cell_type": "markdown",
   "id": "8013df17",
   "metadata": {
    "id": "8013df17"
   },
   "source": [
    "\n",
    "# Réaliser votre étude :\n",
    "\n",
    "- Etudier les meilleurs paramètres pour les méthodes supervisées et non supervisées que vous avez choisies.\n",
    "- Faire une étude sur les paramètres issus de TSFEL en séparant par exemple les différentes modalités (statistiques,temporelles et spectrales) ou en étudiant leur correlation et essayer de réaliser des prétraitements.\n",
    "- Optimiser la réduction de dimensions par ACP\n"
   ]
  },
  {
   "cell_type": "code",
   "execution_count": null,
   "id": "d5bd2f8d",
   "metadata": {
    "id": "d5bd2f8d"
   },
   "outputs": [],
   "source": []
  }
 ],
 "metadata": {
  "colab": {
   "provenance": []
  },
  "kernelspec": {
   "display_name": "Python 3",
   "language": "python",
   "name": "python3"
  },
  "language_info": {
   "codemirror_mode": {
    "name": "ipython",
    "version": 3
   },
   "file_extension": ".py",
   "mimetype": "text/x-python",
   "name": "python",
   "nbconvert_exporter": "python",
   "pygments_lexer": "ipython3",
   "version": "3.11.5"
  }
 },
 "nbformat": 4,
 "nbformat_minor": 5
}
